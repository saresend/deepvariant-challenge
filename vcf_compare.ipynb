{
 "cells": [
  {
   "cell_type": "code",
   "execution_count": 2,
   "metadata": {},
   "outputs": [],
   "source": [
    "# Unzip Dataset \n",
    "import gzip\n",
    "import shutil\n",
    "\n",
    "with gzip.open('output/output.vcf.gz', 'rb') as f_in:\n",
    "    with open('output/output.vcf', 'wb') as f_out:\n",
    "        shutil.copyfileobj(f_in, f_out)"
   ]
  },
  {
   "cell_type": "code",
   "execution_count": 3,
   "metadata": {},
   "outputs": [
    {
     "name": "stdout",
     "output_type": "stream",
     "text": [
      "   CHROM       POS ID REF  ALT  QUAL FILTER INFO              FORMAT  \\\n",
      "0  chr20   9999996  .   A  ACT  39.7   PASS    .  GT:GQ:DP:AD:VAF:PL   \n",
      "1  chr20  10000117  .   C    T  26.1   PASS    .  GT:GQ:DP:AD:VAF:PL   \n",
      "2  chr20  10000211  .   C    T  39.2   PASS    .  GT:GQ:DP:AD:VAF:PL   \n",
      "3  chr20  10000439  .   T    G  29.9   PASS    .  GT:GQ:DP:AD:VAF:PL   \n",
      "4  chr20  10000598  .   T    A  45.2   PASS    .  GT:GQ:DP:AD:VAF:PL   \n",
      "\n",
      "                            NA12878  \n",
      "0          1/1:38:44:0,44:1:39,43,0  \n",
      "1  0/1:26:55:25,30:0.545455:26,0,41  \n",
      "2  0/1:39:59:30,29:0.491525:39,0,54  \n",
      "3          1/1:30:72:0,72:1:29,42,0  \n",
      "4          1/1:44:46:0,46:1:45,51,0  \n"
     ]
    }
   ],
   "source": [
    "import io\n",
    "import os\n",
    "import pandas as pd\n",
    "\n",
    "def read_vcf(path):\n",
    "    with open(path, 'r') as f:\n",
    "        lines = [l for l in f if not l.startswith('##')]\n",
    "    return pd.read_csv(\n",
    "        io.StringIO(''.join(lines)),\n",
    "        dtype={'#CHROM': str, 'POS': int, 'ID': str, 'REF': str, 'ALT': str,\n",
    "               'QUAL': str, 'FILTER': str, 'INFO': str},\n",
    "        sep='\\t'\n",
    "    ).rename(columns={'#CHROM': 'CHROM'})\n",
    "\n",
    "vcf_dataframe = read_vcf('output/output.vcf')\n",
    "\n",
    "print(vcf_dataframe.head())"
   ]
  },
  {
   "cell_type": "code",
   "execution_count": 4,
   "metadata": {},
   "outputs": [
    {
     "name": "stdout",
     "output_type": "stream",
     "text": [
      "          locus name          snp  chr id  chr position coded allele  \\\n",
      "0             2q36.3    rs2972146       2     226235982            T   \n",
      "1             7q32.1    rs4728142       7     128933913            A   \n",
      "2            ABHD17C   rs35199222      15      80720696            A   \n",
      "3            ABHD17C   rs11634851      15      80736624            G   \n",
      "4      ABLIM3-SH3TC2    rs9687065       5     149011577            A   \n",
      "5                ACE       rs4308      17      63482264            A   \n",
      "6              ACOX1    rs2467099      17      75952964            T   \n",
      "7    ADAMTS7-MORF4L1   rs62012628      15      78777658            T   \n",
      "8    ADAMTS7-MORF4L1   rs62011052      15      79156983            C   \n",
      "9            ADAMTS8   rs11222084      11     130403335            T   \n",
      "10           ADAMTS9     rs918466       3      64724577            A   \n",
      "11             ADCY3   rs55701159       2      24916727            T   \n",
      "12               ADM     rs360157      11       9732674            T   \n",
      "13               ADM    rs7129220      11      10350538            A   \n",
      "14               ADM    rs7129220      11      10350538            A   \n",
      "15               ADO   rs10995311      10      62805174            G   \n",
      "16             ADRB1    rs2782980      10     114021768            T   \n",
      "17   ADRB1-RNU6-709P   rs10787517      10     114055047            A   \n",
      "18               AGT    rs2004776       1     230712956            T   \n",
      "19              AKT2    rs9710247      19      40254542            G   \n",
      "20         AMH-SF3A2     rs740406      19       2232222            A   \n",
      "21          ARHGAP12   rs10826995      10      31793730            T   \n",
      "22          ARHGAP24    rs2014912       4      85794517            T   \n",
      "23             ARNTL     rs900145      11      13272358            G   \n",
      "24             ARVCF   rs12628032      22      19980457            T   \n",
      "25             ARVCF    rs4819852      22      20000644            A   \n",
      "26            ATP2B1    rs2681472      12      89615182            A   \n",
      "27            ATP2B1    rs2681492      12      89619312            T   \n",
      "28            ATP2B1   rs17249754      12      89666809            A   \n",
      "29         BAT2-BAT5     rs805303       6      31648589            G   \n",
      "..               ...          ...     ...           ...          ...   \n",
      "70               CRK   rs12941318      17       1430304            T   \n",
      "71  CRYAA-SIK1-RRP1B   rs12627651      21      43340723            A   \n",
      "72               CSK    rs1378942      15      74785026            A   \n",
      "73  CYB561-LOC342541    rs4459609      17      63471587            A   \n",
      "74     CYP17A1-NT5C2    rs1004467      10     102834750            A   \n",
      "75       CYP1A1-ULK3    rs6495122      15      74833304            A   \n",
      "76           CYP2C19    rs4494250      10      94804000            A   \n",
      "77               DBH       rs6271       9     133657152            T   \n",
      "78              DNM3   rs12405515       1     172388301            T   \n",
      "79             DPEP1    rs1126464      16      89637957            C   \n",
      "80              EBF1   rs11953630       5     158418394            T   \n",
      "81              EBF2    rs6557876       8      26043159            T   \n",
      "82             ENPEP    rs6825911       4     110460482            C   \n",
      "83              ESR1   rs13192976       6     151991280            A   \n",
      "84              FAF1  rs147696085       1      50556195            G   \n",
      "85           FAM186B    rs7977389      12      49587939            T   \n",
      "86           FAM208A    rs9827472       3      56692618            T   \n",
      "87             FBLN5    rs2244643      14      91892678            A   \n",
      "88              FBN2    rs6595838       5     128532506            A   \n",
      "89            FBXL19   rs72799341      16      30925422            A   \n",
      "90            FER1L5    rs7599598       2      96686103            A   \n",
      "91            FERMT2    rs9888615      14      52910822            T   \n",
      "92              FGD5   rs11128722       3      14916619            A   \n",
      "93              FGF5   rs16998073       4      80263187            T   \n",
      "94        FGGY-HSD52    rs3889199       1      59188070            A   \n",
      "95      FIGN-PRPS1P1   rs16849211       2     164043173            T   \n",
      "96      FIGN-PRPS1P1    rs1446468       2     164106976            C   \n",
      "97        FIGN-GRB14   rs16849225       2     164050310            C   \n",
      "98  FLJ32810-TMEM133     rs633185      11     100722807            G   \n",
      "99               FN1    rs1250259       2     215435759            A   \n",
      "\n",
      "   best trait effect size of BT coded allele freq  \n",
      "0         DBP              0.17              0.19  \n",
      "1         SBP            −0.224              0.29  \n",
      "2         SBP             0.322              0.18  \n",
      "3         SBP             0.316             0.461  \n",
      "4         DBP              0.26              0.16  \n",
      "5         DBP             0.213              0.24  \n",
      "6         SBP             0.307              0.18  \n",
      "7         DBP            −0.238              0.34  \n",
      "8          PP             −0.28              0.14  \n",
      "9          PP             0.337              0.21  \n",
      "10        DBP            −0.204              0.35  \n",
      "11        DBP             0.285               0.1  \n",
      "12        SBP             0.413              0.44  \n",
      "13        SBP            −0.619             0.058  \n",
      "14        DBP            −0.299             0.058  \n",
      "15        DPB              0.20              0.38  \n",
      "16         PP            −0.338              0.28  \n",
      "17        SBP             0.442             0.616  \n",
      "18        SBP              0.42              0.41  \n",
      "19        DBP             0.252              0.44  \n",
      "20         PP             −0.55              0.21  \n",
      "21         PP             0.212               0.3  \n",
      "22        SBP              0.62              0.19  \n",
      "23        DBP             −0.25              0.43  \n",
      "24         PP              0.24              0.27  \n",
      "25         PP             0.261              0.29  \n",
      "26        DBP               0.5              0.83  \n",
      "27        SBP              1.26              0.21  \n",
      "28         BP               0.8              0.35  \n",
      "29        SBP             0.376              0.44  \n",
      "..        ...               ...               ...  \n",
      "70        SBP            −0.269              0.37  \n",
      "71        SBP             0.503              0.19  \n",
      "72        DBP             0.371              0.65  \n",
      "73        DBP             0.198              0.61  \n",
      "74        SBP               1.2              0.16  \n",
      "75        DBP              0.45              0.29  \n",
      "76        DPB              0.21              0.22  \n",
      "77        DBP            −0.423              0.04  \n",
      "78        DBP             0.165              0.47  \n",
      "79        DBP             0.275              0.26  \n",
      "80        DBP            −0.281              0.18  \n",
      "81        SBP            −0.411              0.33  \n",
      "82        DBP              0.39              0.42  \n",
      "83         PP             0.332              0.21  \n",
      "84         PP             0.298              0.06  \n",
      "85         PP             0.237              0.18  \n",
      "86        DBP             0.177              0.46  \n",
      "87         PP            −0.213              0.29  \n",
      "88        SBP             0.344              0.41  \n",
      "89        DBP             0.185              0.27  \n",
      "90        DBP             −0.31              0.42  \n",
      "91        SBP            −0.318              0.36  \n",
      "92        SBP            −0.383              0.41  \n",
      "93        DBP              0.21              0.23  \n",
      "94         PP             0.351              0.14  \n",
      "95         PP             0.364              0.23  \n",
      "96        SBP             0.538              0.55  \n",
      "97        SBP              0.75              0.23  \n",
      "98        SBP            −0.565              0.36  \n",
      "99         PP            −0.314              0.23  \n",
      "\n",
      "[100 rows x 8 columns]\n"
     ]
    }
   ],
   "source": [
    "# Read in Hypertension journal data\n",
    "\n",
    "hypertension_dataframe = pd.read_csv('hypertension_markers.csv')\n",
    "hypertension_dataframe['chr position'] = pd.to_numeric(list(map(\n",
    "    lambda a: a.replace(',', ''), \n",
    "    hypertension_dataframe['chr position'])))\n",
    "\n",
    "print(hypertension_dataframe.head(100))"
   ]
  },
  {
   "cell_type": "code",
   "execution_count": 7,
   "metadata": {},
   "outputs": [],
   "source": [
    "# Augment with hypertension impace\n",
    "import numpy as np\n",
    "import seaborn as sns\n",
    "import matplotlib.pylab as plt\n",
    "\n",
    "def hypertension_factor(row):\n",
    "    result = hypertension_dataframe.loc[hypertension_dataframe['chr position'] == row['POS']]\n",
    "    if len(result > 0):\n",
    "        return result['effect size of BT'] * row['QUAL']\n",
    "    else:\n",
    "        return 0\n",
    "\n",
    "SCALE_FAC = 15\n",
    "vcf_dataframe['hypertension_impact'] = vcf_dataframe.apply(hypertension_factor, axis=1)"
   ]
  },
  {
   "cell_type": "code",
   "execution_count": 25,
   "metadata": {},
   "outputs": [
    {
     "data": {
      "text/html": [
       "\n",
       "        <iframe\n",
       "            width=\"800\"\n",
       "            height=\"1000\"\n",
       "            src=\"output/output.visual_report.html\"\n",
       "            frameborder=\"0\"\n",
       "            allowfullscreen\n",
       "        ></iframe>\n",
       "        "
      ],
      "text/plain": [
       "<IPython.lib.display.IFrame at 0x7f040d647ac8>"
      ]
     },
     "execution_count": 25,
     "metadata": {},
     "output_type": "execute_result"
    }
   ],
   "source": [
    "# Basic statistics about the VCF Data \n",
    "from IPython.display import IFrame\n",
    "IFrame('output/output.visual_report.html', width=800, height=1000)"
   ]
  },
  {
   "cell_type": "code",
   "execution_count": 28,
   "metadata": {},
   "outputs": [
    {
     "data": {
      "text/plain": [
       "<matplotlib.axes._subplots.AxesSubplot at 0x7f040d640438>"
      ]
     },
     "execution_count": 28,
     "metadata": {},
     "output_type": "execute_result"
    },
    {
     "data": {
      "image/png": "[encoded data removed]",
      "text/plain": [
       "<Figure size 432x288 with 1 Axes>"
      ]
     },
     "metadata": {
      "needs_background": "light"
     },
     "output_type": "display_data"
    }
   ],
   "source": [
    "# Basic Heatmap to visualize what has bearing on hypertension for a given patient \n",
    "sns.barplot(x=vcf_dataframe.index, y=vcf_dataframe['hypertension_impact'], palette=\"deep\")"
   ]
  },
  {
   "cell_type": "markdown",
   "metadata": {},
   "source": [
    "## Some Notes\n",
    "\n",
    "Unfortunately, on the the reduced dataset the approach of using the position to determine which of the SNPS based on their position results in none of the provided variations showing up in the journal results. More extensive analysis on the full genomic sequence would be needed to truly invalidate this approach, however that requires more time than is available during this hackathon. "
   ]
  }
 ],
 "metadata": {
  "kernelspec": {
   "display_name": "Python 3",
   "language": "python",
   "name": "python3"
  },
  "language_info": {
   "codemirror_mode": {
    "name": "ipython",
    "version": 3
   },
   "file_extension": ".py",
   "mimetype": "text/x-python",
   "name": "python",
   "nbconvert_exporter": "python",
   "pygments_lexer": "ipython3",
   "version": "3.7.3"
  }
 },
 "nbformat": 4,
 "nbformat_minor": 2
}
